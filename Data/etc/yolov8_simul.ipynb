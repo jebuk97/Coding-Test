{
 "cells": [
  {
   "cell_type": "code",
   "execution_count": 75,
   "id": "initial_id",
   "metadata": {
    "collapsed": true,
    "ExecuteTime": {
     "end_time": "2023-10-27T14:41:30.463474800Z",
     "start_time": "2023-10-27T14:41:30.459928800Z"
    }
   },
   "outputs": [],
   "source": [
    "outs = []\n",
    "def conv(f):\n",
    "    print(f'conv({f})')\n",
    "    return f'conv({f})'\n",
    "def c2f(f):\n",
    "    print(f'C2F({f})')\n",
    "    return f'C2F({f})'\n",
    "def interpolate(f):\n",
    "    print(f'upsample({f})')\n",
    "    return f'upsample({f})'\n",
    "def append_detect(f):\n",
    "    global outs\n",
    "    outs.append(f)\n",
    "    print('append_detect ------->', f)\n",
    "def cat(f, f2):\n",
    "    print(f'({f} + {f2})')\n",
    "    return f'({f} + {f2})'"
   ]
  },
  {
   "cell_type": "code",
   "execution_count": 57,
   "outputs": [],
   "source": [
    "feats = [3, 2, 1] #뒷단이 작은 수"
   ],
   "metadata": {
    "collapsed": false,
    "ExecuteTime": {
     "end_time": "2023-10-27T14:29:16.779937100Z",
     "start_time": "2023-10-27T14:29:16.774439100Z"
    }
   },
   "id": "64919e0ee8310929"
  },
  {
   "cell_type": "code",
   "execution_count": 82,
   "outputs": [
    {
     "name": "stdout",
     "output_type": "stream",
     "text": [
      "<--------------------방향으로 실행값 적층. +: concat 의미\n",
      "upsample(1)\n",
      "(2 + upsample(1))\n",
      "C2F((2 + upsample(1)))\n",
      "upsample(C2F((2 + upsample(1))))\n",
      "(3 + upsample(C2F((2 + upsample(1)))))\n",
      "C2F((3 + upsample(C2F((2 + upsample(1))))))\n",
      "append_detect -------> C2F((3 + upsample(C2F((2 + upsample(1))))))\n",
      "\n",
      "======backward=======\n",
      "conv(C2F((3 + upsample(C2F((2 + upsample(1)))))))\n",
      "(C2F((2 + upsample(1))) + conv(C2F((3 + upsample(C2F((2 + upsample(1))))))))\n",
      "C2F((C2F((2 + upsample(1))) + conv(C2F((3 + upsample(C2F((2 + upsample(1)))))))))\n",
      "append_detect -------> C2F((C2F((2 + upsample(1))) + conv(C2F((3 + upsample(C2F((2 + upsample(1)))))))))\n",
      "conv(C2F((C2F((2 + upsample(1))) + conv(C2F((3 + upsample(C2F((2 + upsample(1))))))))))\n",
      "(1 + conv(C2F((C2F((2 + upsample(1))) + conv(C2F((3 + upsample(C2F((2 + upsample(1)))))))))))\n",
      "C2F((1 + conv(C2F((C2F((2 + upsample(1))) + conv(C2F((3 + upsample(C2F((2 + upsample(1))))))))))))\n",
      "append_detect -------> C2F((1 + conv(C2F((C2F((2 + upsample(1))) + conv(C2F((3 + upsample(C2F((2 + upsample(1))))))))))))\n"
     ]
    }
   ],
   "source": [
    "print('<--------------------방향으로 실행값 적층. +: concat 의미')\n",
    "tmp = feats[-1]\n",
    "save = [tmp]\n",
    "for i, x in enumerate(reversed(feats[:-1])):\n",
    "    tmp = interpolate(tmp)\n",
    "    tmp = cat(x, tmp)\n",
    "    tmp = c2f(tmp)\n",
    "    if i == 0:\n",
    "        save.append(tmp)\n",
    "append_detect(tmp)\n",
    "\n",
    "print()\n",
    "print('======backward=======')\n",
    "for j, x in enumerate(reversed(save)):\n",
    "    tmp = conv(tmp)\n",
    "    tmp = cat(x, tmp)\n",
    "    tmp = c2f(tmp)\n",
    "    append_detect(tmp)"
   ],
   "metadata": {
    "collapsed": false,
    "ExecuteTime": {
     "end_time": "2023-10-27T14:53:13.962422400Z",
     "start_time": "2023-10-27T14:53:13.958481500Z"
    }
   },
   "id": "cee3ac8e65bdbfb2"
  },
  {
   "cell_type": "code",
   "execution_count": 78,
   "outputs": [
    {
     "name": "stdout",
     "output_type": "stream",
     "text": [
      "C2F((3 + upsample(C2F((2 + upsample(1))))))\n",
      "C2F((C2F((2 + upsample(1))) + conv(C2F((3 + upsample(C2F((2 + upsample(1)))))))))\n",
      "C2F((1 + conv(C2F((C2F((2 + upsample(1))) + conv(C2F((3 + upsample(C2F((2 + upsample(1))))))))))))\n"
     ]
    }
   ],
   "source": [
    "for o in outs: #위부터\n",
    "    print(o)"
   ],
   "metadata": {
    "collapsed": false,
    "ExecuteTime": {
     "end_time": "2023-10-27T14:41:47.535239300Z",
     "start_time": "2023-10-27T14:41:47.529418100Z"
    }
   },
   "id": "dd7d6f2664845c4d"
  }
 ],
 "metadata": {
  "kernelspec": {
   "display_name": "Python 3",
   "language": "python",
   "name": "python3"
  },
  "language_info": {
   "codemirror_mode": {
    "name": "ipython",
    "version": 2
   },
   "file_extension": ".py",
   "mimetype": "text/x-python",
   "name": "python",
   "nbconvert_exporter": "python",
   "pygments_lexer": "ipython2",
   "version": "2.7.6"
  }
 },
 "nbformat": 4,
 "nbformat_minor": 5
}
