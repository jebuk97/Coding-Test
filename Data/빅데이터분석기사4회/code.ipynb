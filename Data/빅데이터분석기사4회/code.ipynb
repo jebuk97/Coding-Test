{
 "cells": [
  {
   "cell_type": "markdown",
   "source": [
    "[마케팅] 자동차 시장 세분화\n",
    "자동차 회사는 새로운 전략을 수립하기 위해 4개의 시장으로 세분화했습니다.\n",
    "\n",
    "기존 고객 분류 자료를 바탕으로 신규 고객이 어떤 분류에 속할지 예측해주세요!\n",
    "\n",
    "예측할 값(y): \"Segmentation\" (1,2,3,4)\n",
    "\n",
    "평가: Macro f1-score\n",
    "\n",
    "data: train.csv, test.csv"
   ],
   "metadata": {
    "collapsed": false
   },
   "id": "398f911e704340ae"
  },
  {
   "cell_type": "code",
   "execution_count": 9,
   "id": "initial_id",
   "metadata": {
    "collapsed": true,
    "ExecuteTime": {
     "end_time": "2023-10-21T15:13:05.710872200Z",
     "start_time": "2023-10-21T15:13:05.686637100Z"
    }
   },
   "outputs": [
    {
     "data": {
      "text/plain": "      Gender Ever_Married  Age Graduated  Profession  Work_Experience  \\\n0       Male           No   22        No  Healthcare              1.0   \n1     Female          Yes   67       Yes    Engineer              1.0   \n2       Male          Yes   67       Yes      Lawyer              0.0   \n3       Male          Yes   56        No      Artist              0.0   \n4       Male           No   32       Yes  Healthcare              1.0   \n...      ...          ...  ...       ...         ...              ...   \n6660    Male          Yes   41       Yes      Artist              0.0   \n6661    Male           No   35        No   Executive              3.0   \n6662  Female           No   33       Yes  Healthcare              1.0   \n6663  Female           No   27       Yes  Healthcare              1.0   \n6664    Male          Yes   37       Yes   Executive              0.0   \n\n     Spending_Score  Family_Size  Var_1  \n0               Low          4.0  Cat_4  \n1               Low          1.0  Cat_6  \n2              High          2.0  Cat_6  \n3           Average          2.0  Cat_6  \n4               Low          3.0  Cat_6  \n...             ...          ...    ...  \n6660           High          5.0  Cat_6  \n6661            Low          4.0  Cat_4  \n6662            Low          1.0  Cat_6  \n6663            Low          4.0  Cat_6  \n6664        Average          3.0  Cat_4  \n\n[6665 rows x 9 columns]",
      "text/html": "<div>\n<style scoped>\n    .dataframe tbody tr th:only-of-type {\n        vertical-align: middle;\n    }\n\n    .dataframe tbody tr th {\n        vertical-align: top;\n    }\n\n    .dataframe thead th {\n        text-align: right;\n    }\n</style>\n<table border=\"1\" class=\"dataframe\">\n  <thead>\n    <tr style=\"text-align: right;\">\n      <th></th>\n      <th>Gender</th>\n      <th>Ever_Married</th>\n      <th>Age</th>\n      <th>Graduated</th>\n      <th>Profession</th>\n      <th>Work_Experience</th>\n      <th>Spending_Score</th>\n      <th>Family_Size</th>\n      <th>Var_1</th>\n    </tr>\n  </thead>\n  <tbody>\n    <tr>\n      <th>0</th>\n      <td>Male</td>\n      <td>No</td>\n      <td>22</td>\n      <td>No</td>\n      <td>Healthcare</td>\n      <td>1.0</td>\n      <td>Low</td>\n      <td>4.0</td>\n      <td>Cat_4</td>\n    </tr>\n    <tr>\n      <th>1</th>\n      <td>Female</td>\n      <td>Yes</td>\n      <td>67</td>\n      <td>Yes</td>\n      <td>Engineer</td>\n      <td>1.0</td>\n      <td>Low</td>\n      <td>1.0</td>\n      <td>Cat_6</td>\n    </tr>\n    <tr>\n      <th>2</th>\n      <td>Male</td>\n      <td>Yes</td>\n      <td>67</td>\n      <td>Yes</td>\n      <td>Lawyer</td>\n      <td>0.0</td>\n      <td>High</td>\n      <td>2.0</td>\n      <td>Cat_6</td>\n    </tr>\n    <tr>\n      <th>3</th>\n      <td>Male</td>\n      <td>Yes</td>\n      <td>56</td>\n      <td>No</td>\n      <td>Artist</td>\n      <td>0.0</td>\n      <td>Average</td>\n      <td>2.0</td>\n      <td>Cat_6</td>\n    </tr>\n    <tr>\n      <th>4</th>\n      <td>Male</td>\n      <td>No</td>\n      <td>32</td>\n      <td>Yes</td>\n      <td>Healthcare</td>\n      <td>1.0</td>\n      <td>Low</td>\n      <td>3.0</td>\n      <td>Cat_6</td>\n    </tr>\n    <tr>\n      <th>...</th>\n      <td>...</td>\n      <td>...</td>\n      <td>...</td>\n      <td>...</td>\n      <td>...</td>\n      <td>...</td>\n      <td>...</td>\n      <td>...</td>\n      <td>...</td>\n    </tr>\n    <tr>\n      <th>6660</th>\n      <td>Male</td>\n      <td>Yes</td>\n      <td>41</td>\n      <td>Yes</td>\n      <td>Artist</td>\n      <td>0.0</td>\n      <td>High</td>\n      <td>5.0</td>\n      <td>Cat_6</td>\n    </tr>\n    <tr>\n      <th>6661</th>\n      <td>Male</td>\n      <td>No</td>\n      <td>35</td>\n      <td>No</td>\n      <td>Executive</td>\n      <td>3.0</td>\n      <td>Low</td>\n      <td>4.0</td>\n      <td>Cat_4</td>\n    </tr>\n    <tr>\n      <th>6662</th>\n      <td>Female</td>\n      <td>No</td>\n      <td>33</td>\n      <td>Yes</td>\n      <td>Healthcare</td>\n      <td>1.0</td>\n      <td>Low</td>\n      <td>1.0</td>\n      <td>Cat_6</td>\n    </tr>\n    <tr>\n      <th>6663</th>\n      <td>Female</td>\n      <td>No</td>\n      <td>27</td>\n      <td>Yes</td>\n      <td>Healthcare</td>\n      <td>1.0</td>\n      <td>Low</td>\n      <td>4.0</td>\n      <td>Cat_6</td>\n    </tr>\n    <tr>\n      <th>6664</th>\n      <td>Male</td>\n      <td>Yes</td>\n      <td>37</td>\n      <td>Yes</td>\n      <td>Executive</td>\n      <td>0.0</td>\n      <td>Average</td>\n      <td>3.0</td>\n      <td>Cat_4</td>\n    </tr>\n  </tbody>\n</table>\n<p>6665 rows × 9 columns</p>\n</div>"
     },
     "execution_count": 9,
     "metadata": {},
     "output_type": "execute_result"
    }
   ],
   "source": [
    "import numpy as np\n",
    "import pandas as pd\n",
    "train = pd.read_csv('train.csv')\n",
    "# train.info()    #결측치 없음\n",
    "y = train['Segmentation']\n",
    "x = train.drop(columns=['Segmentation', 'ID'])\n",
    "x"
   ]
  },
  {
   "cell_type": "code",
   "execution_count": 10,
   "outputs": [
    {
     "name": "stdout",
     "output_type": "stream",
     "text": [
      "<class 'pandas.core.frame.DataFrame'>\n",
      "RangeIndex: 6665 entries, 0 to 6664\n",
      "Data columns (total 9 columns):\n",
      " #   Column           Non-Null Count  Dtype  \n",
      "---  ------           --------------  -----  \n",
      " 0   Gender           6665 non-null   object \n",
      " 1   Ever_Married     6665 non-null   object \n",
      " 2   Age              6665 non-null   int64  \n",
      " 3   Graduated        6665 non-null   object \n",
      " 4   Profession       6665 non-null   object \n",
      " 5   Work_Experience  6665 non-null   float64\n",
      " 6   Spending_Score   6665 non-null   object \n",
      " 7   Family_Size      6665 non-null   float64\n",
      " 8   Var_1            6665 non-null   object \n",
      "dtypes: float64(2), int64(1), object(6)\n",
      "memory usage: 468.8+ KB\n"
     ]
    }
   ],
   "source": [
    "x.info()"
   ],
   "metadata": {
    "collapsed": false,
    "ExecuteTime": {
     "end_time": "2023-10-21T15:13:33.656741300Z",
     "start_time": "2023-10-21T15:13:33.641436100Z"
    }
   },
   "id": "a24eab722533f3eb"
  },
  {
   "cell_type": "code",
   "execution_count": 11,
   "outputs": [],
   "source": [
    "X_cat = x.select_dtypes('object')\n",
    "X_con = x.select_dtypes(exclude='object')"
   ],
   "metadata": {
    "collapsed": false,
    "ExecuteTime": {
     "end_time": "2023-10-21T15:14:40.917369Z",
     "start_time": "2023-10-21T15:14:40.901457Z"
    }
   },
   "id": "ee593ec1fb99a981"
  },
  {
   "cell_type": "code",
   "execution_count": 26,
   "outputs": [
    {
     "name": "stderr",
     "output_type": "stream",
     "text": [
      "C:\\Users\\JYS\\anaconda3\\Lib\\site-packages\\sklearn\\preprocessing\\_encoders.py:972: FutureWarning: `sparse` was renamed to `sparse_output` in version 1.2 and will be removed in 1.4. `sparse_output` is ignored unless you leave `sparse` to its default value.\n",
      "  warnings.warn(\n"
     ]
    }
   ],
   "source": [
    "from sklearn.preprocessing import OneHotEncoder, StandardScaler\n",
    "enc = OneHotEncoder(sparse=False)\n",
    "sc = StandardScaler()\n",
    "\n",
    "enc.fit(X_cat)\n",
    "sc.fit(X_con)\n",
    "\n",
    "X_cat_enc = enc.transform(X_cat)\n",
    "X_con_sc = sc.transform(X_con)"
   ],
   "metadata": {
    "collapsed": false,
    "ExecuteTime": {
     "end_time": "2023-10-21T15:18:56.392392300Z",
     "start_time": "2023-10-21T15:18:56.373305100Z"
    }
   },
   "id": "bd6168fa7eef1efc"
  },
  {
   "cell_type": "code",
   "execution_count": 27,
   "outputs": [
    {
     "data": {
      "text/plain": "array([[0., 1., 1., ..., 0., 0., 0.],\n       [1., 0., 0., ..., 0., 1., 0.],\n       [0., 1., 0., ..., 0., 1., 0.],\n       ...,\n       [1., 0., 1., ..., 0., 1., 0.],\n       [1., 0., 1., ..., 0., 1., 0.],\n       [0., 1., 0., ..., 0., 0., 0.]])"
     },
     "execution_count": 27,
     "metadata": {},
     "output_type": "execute_result"
    }
   ],
   "source": [
    "X_cat_enc"
   ],
   "metadata": {
    "collapsed": false,
    "ExecuteTime": {
     "end_time": "2023-10-21T15:18:58.264188300Z",
     "start_time": "2023-10-21T15:18:58.261767400Z"
    }
   },
   "id": "bf19a53c8d6af399"
  },
  {
   "cell_type": "code",
   "execution_count": 21,
   "outputs": [
    {
     "data": {
      "text/plain": "array([[-1.30341502, -0.4784302 ,  0.76011295],\n       [ 1.42009199, -0.4784302 , -1.20757975],\n       [ 1.42009199, -0.7721065 , -0.55168218],\n       ...,\n       [-0.63766886, -0.4784302 , -1.20757975],\n       [-1.00080313, -0.4784302 ,  0.76011295],\n       [-0.39557935, -0.7721065 ,  0.10421538]])"
     },
     "execution_count": 21,
     "metadata": {},
     "output_type": "execute_result"
    }
   ],
   "source": [
    "X_con_sc"
   ],
   "metadata": {
    "collapsed": false,
    "ExecuteTime": {
     "end_time": "2023-10-21T15:18:35.393835300Z",
     "start_time": "2023-10-21T15:18:35.390849100Z"
    }
   },
   "id": "a216408fec14b564"
  },
  {
   "cell_type": "code",
   "execution_count": 28,
   "outputs": [
    {
     "data": {
      "text/plain": "array([[ 0.        ,  1.        ,  1.        , ..., -1.30341502,\n        -0.4784302 ,  0.76011295],\n       [ 1.        ,  0.        ,  0.        , ...,  1.42009199,\n        -0.4784302 , -1.20757975],\n       [ 0.        ,  1.        ,  0.        , ...,  1.42009199,\n        -0.7721065 , -0.55168218],\n       ...,\n       [ 1.        ,  0.        ,  1.        , ..., -0.63766886,\n        -0.4784302 , -1.20757975],\n       [ 1.        ,  0.        ,  1.        , ..., -1.00080313,\n        -0.4784302 ,  0.76011295],\n       [ 0.        ,  1.        ,  0.        , ..., -0.39557935,\n        -0.7721065 ,  0.10421538]])"
     },
     "execution_count": 28,
     "metadata": {},
     "output_type": "execute_result"
    }
   ],
   "source": [
    "import numpy as np\n",
    "X = np.concatenate([X_cat_enc, X_con_sc], axis = 1)\n",
    "X"
   ],
   "metadata": {
    "collapsed": false,
    "ExecuteTime": {
     "end_time": "2023-10-21T15:19:01.475615900Z",
     "start_time": "2023-10-21T15:19:01.467894Z"
    }
   },
   "id": "8cc63e661ed0a7ab"
  },
  {
   "cell_type": "code",
   "execution_count": 30,
   "outputs": [],
   "source": [
    "from sklearn.model_selection import train_test_split\n",
    "X_train, X_val, y_train, y_val = train_test_split(X, y, test_size=0.1, random_state=42)"
   ],
   "metadata": {
    "collapsed": false,
    "ExecuteTime": {
     "end_time": "2023-10-21T15:20:09.699229300Z",
     "start_time": "2023-10-21T15:20:09.643727400Z"
    }
   },
   "id": "c5c2fcf8077f8ab1"
  },
  {
   "cell_type": "code",
   "execution_count": 32,
   "outputs": [
    {
     "data": {
      "text/plain": "((5998, 28), (5998,))"
     },
     "execution_count": 32,
     "metadata": {},
     "output_type": "execute_result"
    }
   ],
   "source": [
    "(X_train.shape, y_train.shape)"
   ],
   "metadata": {
    "collapsed": false,
    "ExecuteTime": {
     "end_time": "2023-10-21T15:20:25.116165300Z",
     "start_time": "2023-10-21T15:20:25.104065800Z"
    }
   },
   "id": "6c4130b343f416a6"
  },
  {
   "cell_type": "code",
   "execution_count": 54,
   "outputs": [
    {
     "data": {
      "text/plain": "RandomForestClassifier(max_depth=7)",
      "text/html": "<style>#sk-container-id-2 {color: black;}#sk-container-id-2 pre{padding: 0;}#sk-container-id-2 div.sk-toggleable {background-color: white;}#sk-container-id-2 label.sk-toggleable__label {cursor: pointer;display: block;width: 100%;margin-bottom: 0;padding: 0.3em;box-sizing: border-box;text-align: center;}#sk-container-id-2 label.sk-toggleable__label-arrow:before {content: \"▸\";float: left;margin-right: 0.25em;color: #696969;}#sk-container-id-2 label.sk-toggleable__label-arrow:hover:before {color: black;}#sk-container-id-2 div.sk-estimator:hover label.sk-toggleable__label-arrow:before {color: black;}#sk-container-id-2 div.sk-toggleable__content {max-height: 0;max-width: 0;overflow: hidden;text-align: left;background-color: #f0f8ff;}#sk-container-id-2 div.sk-toggleable__content pre {margin: 0.2em;color: black;border-radius: 0.25em;background-color: #f0f8ff;}#sk-container-id-2 input.sk-toggleable__control:checked~div.sk-toggleable__content {max-height: 200px;max-width: 100%;overflow: auto;}#sk-container-id-2 input.sk-toggleable__control:checked~label.sk-toggleable__label-arrow:before {content: \"▾\";}#sk-container-id-2 div.sk-estimator input.sk-toggleable__control:checked~label.sk-toggleable__label {background-color: #d4ebff;}#sk-container-id-2 div.sk-label input.sk-toggleable__control:checked~label.sk-toggleable__label {background-color: #d4ebff;}#sk-container-id-2 input.sk-hidden--visually {border: 0;clip: rect(1px 1px 1px 1px);clip: rect(1px, 1px, 1px, 1px);height: 1px;margin: -1px;overflow: hidden;padding: 0;position: absolute;width: 1px;}#sk-container-id-2 div.sk-estimator {font-family: monospace;background-color: #f0f8ff;border: 1px dotted black;border-radius: 0.25em;box-sizing: border-box;margin-bottom: 0.5em;}#sk-container-id-2 div.sk-estimator:hover {background-color: #d4ebff;}#sk-container-id-2 div.sk-parallel-item::after {content: \"\";width: 100%;border-bottom: 1px solid gray;flex-grow: 1;}#sk-container-id-2 div.sk-label:hover label.sk-toggleable__label {background-color: #d4ebff;}#sk-container-id-2 div.sk-serial::before {content: \"\";position: absolute;border-left: 1px solid gray;box-sizing: border-box;top: 0;bottom: 0;left: 50%;z-index: 0;}#sk-container-id-2 div.sk-serial {display: flex;flex-direction: column;align-items: center;background-color: white;padding-right: 0.2em;padding-left: 0.2em;position: relative;}#sk-container-id-2 div.sk-item {position: relative;z-index: 1;}#sk-container-id-2 div.sk-parallel {display: flex;align-items: stretch;justify-content: center;background-color: white;position: relative;}#sk-container-id-2 div.sk-item::before, #sk-container-id-2 div.sk-parallel-item::before {content: \"\";position: absolute;border-left: 1px solid gray;box-sizing: border-box;top: 0;bottom: 0;left: 50%;z-index: -1;}#sk-container-id-2 div.sk-parallel-item {display: flex;flex-direction: column;z-index: 1;position: relative;background-color: white;}#sk-container-id-2 div.sk-parallel-item:first-child::after {align-self: flex-end;width: 50%;}#sk-container-id-2 div.sk-parallel-item:last-child::after {align-self: flex-start;width: 50%;}#sk-container-id-2 div.sk-parallel-item:only-child::after {width: 0;}#sk-container-id-2 div.sk-dashed-wrapped {border: 1px dashed gray;margin: 0 0.4em 0.5em 0.4em;box-sizing: border-box;padding-bottom: 0.4em;background-color: white;}#sk-container-id-2 div.sk-label label {font-family: monospace;font-weight: bold;display: inline-block;line-height: 1.2em;}#sk-container-id-2 div.sk-label-container {text-align: center;}#sk-container-id-2 div.sk-container {/* jupyter's `normalize.less` sets `[hidden] { display: none; }` but bootstrap.min.css set `[hidden] { display: none !important; }` so we also need the `!important` here to be able to override the default hidden behavior on the sphinx rendered scikit-learn.org. See: https://github.com/scikit-learn/scikit-learn/issues/21755 */display: inline-block !important;position: relative;}#sk-container-id-2 div.sk-text-repr-fallback {display: none;}</style><div id=\"sk-container-id-2\" class=\"sk-top-container\"><div class=\"sk-text-repr-fallback\"><pre>RandomForestClassifier(max_depth=7)</pre><b>In a Jupyter environment, please rerun this cell to show the HTML representation or trust the notebook. <br />On GitHub, the HTML representation is unable to render, please try loading this page with nbviewer.org.</b></div><div class=\"sk-container\" hidden><div class=\"sk-item\"><div class=\"sk-estimator sk-toggleable\"><input class=\"sk-toggleable__control sk-hidden--visually\" id=\"sk-estimator-id-2\" type=\"checkbox\" checked><label for=\"sk-estimator-id-2\" class=\"sk-toggleable__label sk-toggleable__label-arrow\">RandomForestClassifier</label><div class=\"sk-toggleable__content\"><pre>RandomForestClassifier(max_depth=7)</pre></div></div></div></div></div>"
     },
     "execution_count": 54,
     "metadata": {},
     "output_type": "execute_result"
    }
   ],
   "source": [
    "from sklearn.ensemble import RandomForestClassifier\n",
    "rf = RandomForestClassifier(max_depth=7)\n",
    "rf.fit(X_train, y_train)"
   ],
   "metadata": {
    "collapsed": false,
    "ExecuteTime": {
     "end_time": "2023-10-21T15:37:02.885755300Z",
     "start_time": "2023-10-21T15:37:02.591937600Z"
    }
   },
   "id": "d93938a838a586a"
  },
  {
   "cell_type": "code",
   "execution_count": 39,
   "outputs": [
    {
     "name": "stdout",
     "output_type": "stream",
     "text": [
      "0.4880305589337297\n"
     ]
    }
   ],
   "source": [
    "from sklearn.metrics import f1_score\n",
    "pred = rf.predict(X_val)\n",
    "print(f1_score(y_val, pred, average='macro'))\n"
   ],
   "metadata": {
    "collapsed": false,
    "ExecuteTime": {
     "end_time": "2023-10-21T15:24:26.131593900Z",
     "start_time": "2023-10-21T15:24:26.098128700Z"
    }
   },
   "id": "6bde875598eb81fb"
  },
  {
   "cell_type": "code",
   "execution_count": 48,
   "outputs": [],
   "source": [
    "X_test = pd.read_csv('test.csv')\n",
    "ID = X_test['ID']"
   ],
   "metadata": {
    "collapsed": false,
    "ExecuteTime": {
     "end_time": "2023-10-21T15:31:56.468468900Z",
     "start_time": "2023-10-21T15:31:56.452573500Z"
    }
   },
   "id": "5d08e7e847c9ba10"
  },
  {
   "cell_type": "code",
   "execution_count": 49,
   "outputs": [
    {
     "name": "stderr",
     "output_type": "stream",
     "text": [
      "C:\\Users\\JYS\\anaconda3\\Lib\\site-packages\\sklearn\\preprocessing\\_encoders.py:972: FutureWarning: `sparse` was renamed to `sparse_output` in version 1.2 and will be removed in 1.4. `sparse_output` is ignored unless you leave `sparse` to its default value.\n",
      "  warnings.warn(\n"
     ]
    }
   ],
   "source": [
    "X_test = X_test.drop(columns=['ID'])\n",
    "X_test_cat = X_test.select_dtypes('object')\n",
    "X_test_con = X_test.select_dtypes(exclude='object')\n",
    "enc.fit(X_test_cat)\n",
    "sc.fit(X_test_con)\n",
    "X_test_cat = enc.transform(X_test_cat)\n",
    "X_test_con = sc.transform(X_test_con)\n",
    "X_test = np.concatenate([X_test_cat, X_test_con], axis = 1)"
   ],
   "metadata": {
    "collapsed": false,
    "ExecuteTime": {
     "end_time": "2023-10-21T15:31:58.504889600Z",
     "start_time": "2023-10-21T15:31:58.484912400Z"
    }
   },
   "id": "b8ecabe8298d6660"
  },
  {
   "cell_type": "code",
   "execution_count": 46,
   "outputs": [
    {
     "data": {
      "text/plain": "array([[ 1.        ,  0.        ,  0.        , ..., -0.44524796,\n        -0.76298583, -1.17270206],\n       [ 0.        ,  1.        ,  0.        , ..., -0.38557499,\n         1.62925795,  0.74238531],\n       [ 0.        ,  1.        ,  0.        , ...,  0.92723055,\n         2.52634937, -0.53433961],\n       ...,\n       [ 1.        ,  0.        ,  1.        , ..., -0.50492094,\n        -0.46395536, -1.17270206],\n       [ 0.        ,  1.        ,  0.        , ...,  0.2111548 ,\n        -0.46395536,  1.38074776],\n       [ 1.        ,  0.        ,  1.        , ..., -0.02753711,\n         1.92828842,  0.10402285]])"
     },
     "execution_count": 46,
     "metadata": {},
     "output_type": "execute_result"
    }
   ],
   "source": [
    "X_test"
   ],
   "metadata": {
    "collapsed": false,
    "ExecuteTime": {
     "end_time": "2023-10-21T15:30:09.233862900Z",
     "start_time": "2023-10-21T15:30:09.227662400Z"
    }
   },
   "id": "59a8e29117c30475"
  },
  {
   "cell_type": "code",
   "execution_count": 55,
   "outputs": [
    {
     "data": {
      "text/plain": "array([1, 3, 2, ..., 1, 3, 4], dtype=int64)"
     },
     "execution_count": 55,
     "metadata": {},
     "output_type": "execute_result"
    }
   ],
   "source": [
    "res = rf.predict(X_test)\n",
    "res"
   ],
   "metadata": {
    "collapsed": false,
    "ExecuteTime": {
     "end_time": "2023-10-21T15:37:09.517784800Z",
     "start_time": "2023-10-21T15:37:09.483678600Z"
    }
   },
   "id": "626160e10836d709"
  },
  {
   "cell_type": "code",
   "execution_count": 57,
   "outputs": [],
   "source": [
    "output = pd.DataFrame({'ID':ID, 'Segmentation':res})\n",
    "output.to_csv('output.csv', index=False)"
   ],
   "metadata": {
    "collapsed": false,
    "ExecuteTime": {
     "end_time": "2023-10-21T15:37:35.625253800Z",
     "start_time": "2023-10-21T15:37:35.617679200Z"
    }
   },
   "id": "1241a1be7abc4755"
  }
 ],
 "metadata": {
  "kernelspec": {
   "display_name": "Python 3",
   "language": "python",
   "name": "python3"
  },
  "language_info": {
   "codemirror_mode": {
    "name": "ipython",
    "version": 2
   },
   "file_extension": ".py",
   "mimetype": "text/x-python",
   "name": "python",
   "nbconvert_exporter": "python",
   "pygments_lexer": "ipython2",
   "version": "2.7.6"
  }
 },
 "nbformat": 4,
 "nbformat_minor": 5
}
