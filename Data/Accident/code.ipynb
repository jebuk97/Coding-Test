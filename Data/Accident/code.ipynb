{
 "cells": [
  {
   "cell_type": "code",
   "execution_count": 2,
   "id": "initial_id",
   "metadata": {
    "collapsed": true,
    "ExecuteTime": {
     "end_time": "2023-10-21T11:43:41.888984800Z",
     "start_time": "2023-10-21T11:43:41.650139700Z"
    }
   },
   "outputs": [
    {
     "data": {
      "text/plain": "   사고유형대분류     사고유형중분류        사고유형   사고건수  사망자수   중상자수   경상자수  부상신고자수\n0     차대사람         횡단중         횡단중  12767   445   5999   6664     458\n1     차대사람       차도통행중       차도통행중   3628   146   1438   2007     183\n2     차대사람  길가장자리구역통행중  길가장자리구역통행중   1973    33    563   1330     121\n3     차대사람       보도통행중       보도통행중   2226    21    745   1455     131\n4     차대사람          기타          기타  14675   333   4887   9139    1062\n5      차대차        정면충돌        정면충돌   7892   205   3539   8837     588\n6      차대차        측면충돌        측면충돌  71687   404  17756  84667    5781\n7      차대차       후진중충돌       후진중충돌   3514     2    304   4172     162\n8      차대차          추돌          추돌  32717   379   7564  47111    2748\n9      차대차          기타          기타  44222   248   9990  49616    3839\n10    차량단독          전도          전도    956    82    384    403     209\n11    차량단독          전복          전복    165    36     87     81      27\n12    차량단독       공작물충돌       공작물충돌   2742   340   1256   1504     532\n13    차량단독   주/정차차량 충돌   주/정차차량 충돌     23     3      7      8       6\n14    차량단독        도로이탈     도로이탈 추락    385    73    199    179      44\n15    차량단독        도로이탈     도로이탈 기타    156    18     73     79      34\n16    차량단독          기타          기타   3401   148   1114   2030     495",
      "text/html": "<div>\n<style scoped>\n    .dataframe tbody tr th:only-of-type {\n        vertical-align: middle;\n    }\n\n    .dataframe tbody tr th {\n        vertical-align: top;\n    }\n\n    .dataframe thead th {\n        text-align: right;\n    }\n</style>\n<table border=\"1\" class=\"dataframe\">\n  <thead>\n    <tr style=\"text-align: right;\">\n      <th></th>\n      <th>사고유형대분류</th>\n      <th>사고유형중분류</th>\n      <th>사고유형</th>\n      <th>사고건수</th>\n      <th>사망자수</th>\n      <th>중상자수</th>\n      <th>경상자수</th>\n      <th>부상신고자수</th>\n    </tr>\n  </thead>\n  <tbody>\n    <tr>\n      <th>0</th>\n      <td>차대사람</td>\n      <td>횡단중</td>\n      <td>횡단중</td>\n      <td>12767</td>\n      <td>445</td>\n      <td>5999</td>\n      <td>6664</td>\n      <td>458</td>\n    </tr>\n    <tr>\n      <th>1</th>\n      <td>차대사람</td>\n      <td>차도통행중</td>\n      <td>차도통행중</td>\n      <td>3628</td>\n      <td>146</td>\n      <td>1438</td>\n      <td>2007</td>\n      <td>183</td>\n    </tr>\n    <tr>\n      <th>2</th>\n      <td>차대사람</td>\n      <td>길가장자리구역통행중</td>\n      <td>길가장자리구역통행중</td>\n      <td>1973</td>\n      <td>33</td>\n      <td>563</td>\n      <td>1330</td>\n      <td>121</td>\n    </tr>\n    <tr>\n      <th>3</th>\n      <td>차대사람</td>\n      <td>보도통행중</td>\n      <td>보도통행중</td>\n      <td>2226</td>\n      <td>21</td>\n      <td>745</td>\n      <td>1455</td>\n      <td>131</td>\n    </tr>\n    <tr>\n      <th>4</th>\n      <td>차대사람</td>\n      <td>기타</td>\n      <td>기타</td>\n      <td>14675</td>\n      <td>333</td>\n      <td>4887</td>\n      <td>9139</td>\n      <td>1062</td>\n    </tr>\n    <tr>\n      <th>5</th>\n      <td>차대차</td>\n      <td>정면충돌</td>\n      <td>정면충돌</td>\n      <td>7892</td>\n      <td>205</td>\n      <td>3539</td>\n      <td>8837</td>\n      <td>588</td>\n    </tr>\n    <tr>\n      <th>6</th>\n      <td>차대차</td>\n      <td>측면충돌</td>\n      <td>측면충돌</td>\n      <td>71687</td>\n      <td>404</td>\n      <td>17756</td>\n      <td>84667</td>\n      <td>5781</td>\n    </tr>\n    <tr>\n      <th>7</th>\n      <td>차대차</td>\n      <td>후진중충돌</td>\n      <td>후진중충돌</td>\n      <td>3514</td>\n      <td>2</td>\n      <td>304</td>\n      <td>4172</td>\n      <td>162</td>\n    </tr>\n    <tr>\n      <th>8</th>\n      <td>차대차</td>\n      <td>추돌</td>\n      <td>추돌</td>\n      <td>32717</td>\n      <td>379</td>\n      <td>7564</td>\n      <td>47111</td>\n      <td>2748</td>\n    </tr>\n    <tr>\n      <th>9</th>\n      <td>차대차</td>\n      <td>기타</td>\n      <td>기타</td>\n      <td>44222</td>\n      <td>248</td>\n      <td>9990</td>\n      <td>49616</td>\n      <td>3839</td>\n    </tr>\n    <tr>\n      <th>10</th>\n      <td>차량단독</td>\n      <td>전도</td>\n      <td>전도</td>\n      <td>956</td>\n      <td>82</td>\n      <td>384</td>\n      <td>403</td>\n      <td>209</td>\n    </tr>\n    <tr>\n      <th>11</th>\n      <td>차량단독</td>\n      <td>전복</td>\n      <td>전복</td>\n      <td>165</td>\n      <td>36</td>\n      <td>87</td>\n      <td>81</td>\n      <td>27</td>\n    </tr>\n    <tr>\n      <th>12</th>\n      <td>차량단독</td>\n      <td>공작물충돌</td>\n      <td>공작물충돌</td>\n      <td>2742</td>\n      <td>340</td>\n      <td>1256</td>\n      <td>1504</td>\n      <td>532</td>\n    </tr>\n    <tr>\n      <th>13</th>\n      <td>차량단독</td>\n      <td>주/정차차량 충돌</td>\n      <td>주/정차차량 충돌</td>\n      <td>23</td>\n      <td>3</td>\n      <td>7</td>\n      <td>8</td>\n      <td>6</td>\n    </tr>\n    <tr>\n      <th>14</th>\n      <td>차량단독</td>\n      <td>도로이탈</td>\n      <td>도로이탈 추락</td>\n      <td>385</td>\n      <td>73</td>\n      <td>199</td>\n      <td>179</td>\n      <td>44</td>\n    </tr>\n    <tr>\n      <th>15</th>\n      <td>차량단독</td>\n      <td>도로이탈</td>\n      <td>도로이탈 기타</td>\n      <td>156</td>\n      <td>18</td>\n      <td>73</td>\n      <td>79</td>\n      <td>34</td>\n    </tr>\n    <tr>\n      <th>16</th>\n      <td>차량단독</td>\n      <td>기타</td>\n      <td>기타</td>\n      <td>3401</td>\n      <td>148</td>\n      <td>1114</td>\n      <td>2030</td>\n      <td>495</td>\n    </tr>\n  </tbody>\n</table>\n</div>"
     },
     "execution_count": 2,
     "metadata": {},
     "output_type": "execute_result"
    }
   ],
   "source": [
    "import numpy as np\n",
    "import pandas as pd\n",
    "from matplotlib import pyplot as plt\n",
    "\n",
    "data = pd.read_excel('accident_stat.xlsx')\n",
    "data"
   ]
  },
  {
   "cell_type": "code",
   "execution_count": 31,
   "outputs": [
    {
     "data": {
      "text/plain": "Index(['기타', '정면충돌', '추돌', '측면충돌', '후진중충돌'], dtype='object', name='사고유형')"
     },
     "execution_count": 31,
     "metadata": {},
     "output_type": "execute_result"
    }
   ],
   "source": [
    "acc.keys()\n"
   ],
   "metadata": {
    "collapsed": false,
    "ExecuteTime": {
     "end_time": "2023-10-21T12:00:49.579854900Z",
     "start_time": "2023-10-21T12:00:49.575404Z"
    }
   },
   "id": "4d56c1dea128262e"
  },
  {
   "cell_type": "code",
   "execution_count": 34,
   "outputs": [
    {
     "name": "stderr",
     "output_type": "stream",
     "text": [
      "C:\\Users\\JYS\\anaconda3\\envs\\pythonProject\\lib\\site-packages\\ipykernel_launcher.py:2: SettingWithCopyWarning: \n",
      "A value is trying to be set on a copy of a slice from a DataFrame.\n",
      "Try using .loc[row_indexer,col_indexer] = value instead\n",
      "\n",
      "See the caveats in the documentation: https://pandas.pydata.org/pandas-docs/stable/user_guide/indexing.html#returning-a-view-versus-a-copy\n",
      "  \n"
     ]
    },
    {
     "data": {
      "text/plain": "<Figure size 640x480 with 1 Axes>",
      "image/png": "[encoded data removed]"
     },
     "metadata": {},
     "output_type": "display_data"
    }
   ],
   "source": [
    "carcar = data.loc[data['사고유형대분류'] == '차대차']\n",
    "carcar['사망비율'] = carcar['사망자수']/carcar['사고건수']\n",
    "acc = carcar.groupby('사고유형')['사망비율'].mean()\n",
    "plt.bar(range(len(acc)), acc)\n",
    "plt.xticks(range(len(acc)), acc.keys())\n",
    "plt.rcParams['font.family'] = 'Dotum'\n",
    "plt.show()"
   ],
   "metadata": {
    "collapsed": false,
    "ExecuteTime": {
     "end_time": "2023-10-21T12:03:00.953921Z",
     "start_time": "2023-10-21T12:03:00.859044600Z"
    }
   },
   "id": "3e8a403fe3c046d1"
  },
  {
   "cell_type": "code",
   "execution_count": 46,
   "outputs": [
    {
     "data": {
      "text/plain": "['횡단중', '측면충돌', '공작물충돌']"
     },
     "execution_count": 46,
     "metadata": {},
     "output_type": "execute_result"
    }
   ],
   "source": [
    "data.loc[(data.groupby('사고유형대분류')['사망자수'].idxmax())]['사고유형'].tolist()"
   ],
   "metadata": {
    "collapsed": false,
    "ExecuteTime": {
     "end_time": "2023-10-21T12:07:54.034684200Z",
     "start_time": "2023-10-21T12:07:54.029677600Z"
    }
   },
   "id": "6f7ac0931b54dcff"
  },
  {
   "cell_type": "code",
   "execution_count": 85,
   "outputs": [
    {
     "data": {
      "text/plain": "   사고유형대분류     사고유형중분류        사고유형   사고건수  사망자수   중상자수   경상자수  부상신고자수  \\\n0     차대사람         횡단중         횡단중  12767   445   5999   6664     458   \n1     차대사람       차도통행중       차도통행중   3628   146   1438   2007     183   \n2     차대사람  길가장자리구역통행중  길가장자리구역통행중   1973    33    563   1330     121   \n3     차대사람       보도통행중       보도통행중   2226    21    745   1455     131   \n4     차대사람          기타          기타  14675   333   4887   9139    1062   \n5      차대차        정면충돌        정면충돌   7892   205   3539   8837     588   \n6      차대차        측면충돌        측면충돌  71687   404  17756  84667    5781   \n7      차대차       후진중충돌       후진중충돌   3514     2    304   4172     162   \n8      차대차          추돌          추돌  32717   379   7564  47111    2748   \n9      차대차          기타          기타  44222   248   9990  49616    3839   \n10    차량단독          전도          전도    956    82    384    403     209   \n11    차량단독          전복          전복    165    36     87     81      27   \n12    차량단독       공작물충돌       공작물충돌   2742   340   1256   1504     532   \n13    차량단독   주/정차차량 충돌   주/정차차량 충돌     23     3      7      8       6   \n14    차량단독        도로이탈     도로이탈 추락    385    73    199    179      44   \n15    차량단독        도로이탈     도로이탈 기타    156    18     73     79      34   \n16    차량단독          기타          기타   3401   148   1114   2030     495   \n\n        중상비율  \n0   0.469883  \n1   0.396362  \n2   0.285352  \n3   0.334681  \n4   0.333015  \n5   0.448429  \n6   0.247688  \n7   0.086511  \n8   0.231195  \n9   0.225906  \n10  0.401674  \n11  0.527273  \n12  0.458060  \n13  0.304348  \n14  0.516883  \n15  0.467949  \n16  0.327551  ",
      "text/html": "<div>\n<style scoped>\n    .dataframe tbody tr th:only-of-type {\n        vertical-align: middle;\n    }\n\n    .dataframe tbody tr th {\n        vertical-align: top;\n    }\n\n    .dataframe thead th {\n        text-align: right;\n    }\n</style>\n<table border=\"1\" class=\"dataframe\">\n  <thead>\n    <tr style=\"text-align: right;\">\n      <th></th>\n      <th>사고유형대분류</th>\n      <th>사고유형중분류</th>\n      <th>사고유형</th>\n      <th>사고건수</th>\n      <th>사망자수</th>\n      <th>중상자수</th>\n      <th>경상자수</th>\n      <th>부상신고자수</th>\n      <th>중상비율</th>\n    </tr>\n  </thead>\n  <tbody>\n    <tr>\n      <th>0</th>\n      <td>차대사람</td>\n      <td>횡단중</td>\n      <td>횡단중</td>\n      <td>12767</td>\n      <td>445</td>\n      <td>5999</td>\n      <td>6664</td>\n      <td>458</td>\n      <td>0.469883</td>\n    </tr>\n    <tr>\n      <th>1</th>\n      <td>차대사람</td>\n      <td>차도통행중</td>\n      <td>차도통행중</td>\n      <td>3628</td>\n      <td>146</td>\n      <td>1438</td>\n      <td>2007</td>\n      <td>183</td>\n      <td>0.396362</td>\n    </tr>\n    <tr>\n      <th>2</th>\n      <td>차대사람</td>\n      <td>길가장자리구역통행중</td>\n      <td>길가장자리구역통행중</td>\n      <td>1973</td>\n      <td>33</td>\n      <td>563</td>\n      <td>1330</td>\n      <td>121</td>\n      <td>0.285352</td>\n    </tr>\n    <tr>\n      <th>3</th>\n      <td>차대사람</td>\n      <td>보도통행중</td>\n      <td>보도통행중</td>\n      <td>2226</td>\n      <td>21</td>\n      <td>745</td>\n      <td>1455</td>\n      <td>131</td>\n      <td>0.334681</td>\n    </tr>\n    <tr>\n      <th>4</th>\n      <td>차대사람</td>\n      <td>기타</td>\n      <td>기타</td>\n      <td>14675</td>\n      <td>333</td>\n      <td>4887</td>\n      <td>9139</td>\n      <td>1062</td>\n      <td>0.333015</td>\n    </tr>\n    <tr>\n      <th>5</th>\n      <td>차대차</td>\n      <td>정면충돌</td>\n      <td>정면충돌</td>\n      <td>7892</td>\n      <td>205</td>\n      <td>3539</td>\n      <td>8837</td>\n      <td>588</td>\n      <td>0.448429</td>\n    </tr>\n    <tr>\n      <th>6</th>\n      <td>차대차</td>\n      <td>측면충돌</td>\n      <td>측면충돌</td>\n      <td>71687</td>\n      <td>404</td>\n      <td>17756</td>\n      <td>84667</td>\n      <td>5781</td>\n      <td>0.247688</td>\n    </tr>\n    <tr>\n      <th>7</th>\n      <td>차대차</td>\n      <td>후진중충돌</td>\n      <td>후진중충돌</td>\n      <td>3514</td>\n      <td>2</td>\n      <td>304</td>\n      <td>4172</td>\n      <td>162</td>\n      <td>0.086511</td>\n    </tr>\n    <tr>\n      <th>8</th>\n      <td>차대차</td>\n      <td>추돌</td>\n      <td>추돌</td>\n      <td>32717</td>\n      <td>379</td>\n      <td>7564</td>\n      <td>47111</td>\n      <td>2748</td>\n      <td>0.231195</td>\n    </tr>\n    <tr>\n      <th>9</th>\n      <td>차대차</td>\n      <td>기타</td>\n      <td>기타</td>\n      <td>44222</td>\n      <td>248</td>\n      <td>9990</td>\n      <td>49616</td>\n      <td>3839</td>\n      <td>0.225906</td>\n    </tr>\n    <tr>\n      <th>10</th>\n      <td>차량단독</td>\n      <td>전도</td>\n      <td>전도</td>\n      <td>956</td>\n      <td>82</td>\n      <td>384</td>\n      <td>403</td>\n      <td>209</td>\n      <td>0.401674</td>\n    </tr>\n    <tr>\n      <th>11</th>\n      <td>차량단독</td>\n      <td>전복</td>\n      <td>전복</td>\n      <td>165</td>\n      <td>36</td>\n      <td>87</td>\n      <td>81</td>\n      <td>27</td>\n      <td>0.527273</td>\n    </tr>\n    <tr>\n      <th>12</th>\n      <td>차량단독</td>\n      <td>공작물충돌</td>\n      <td>공작물충돌</td>\n      <td>2742</td>\n      <td>340</td>\n      <td>1256</td>\n      <td>1504</td>\n      <td>532</td>\n      <td>0.458060</td>\n    </tr>\n    <tr>\n      <th>13</th>\n      <td>차량단독</td>\n      <td>주/정차차량 충돌</td>\n      <td>주/정차차량 충돌</td>\n      <td>23</td>\n      <td>3</td>\n      <td>7</td>\n      <td>8</td>\n      <td>6</td>\n      <td>0.304348</td>\n    </tr>\n    <tr>\n      <th>14</th>\n      <td>차량단독</td>\n      <td>도로이탈</td>\n      <td>도로이탈 추락</td>\n      <td>385</td>\n      <td>73</td>\n      <td>199</td>\n      <td>179</td>\n      <td>44</td>\n      <td>0.516883</td>\n    </tr>\n    <tr>\n      <th>15</th>\n      <td>차량단독</td>\n      <td>도로이탈</td>\n      <td>도로이탈 기타</td>\n      <td>156</td>\n      <td>18</td>\n      <td>73</td>\n      <td>79</td>\n      <td>34</td>\n      <td>0.467949</td>\n    </tr>\n    <tr>\n      <th>16</th>\n      <td>차량단독</td>\n      <td>기타</td>\n      <td>기타</td>\n      <td>3401</td>\n      <td>148</td>\n      <td>1114</td>\n      <td>2030</td>\n      <td>495</td>\n      <td>0.327551</td>\n    </tr>\n  </tbody>\n</table>\n</div>"
     },
     "execution_count": 85,
     "metadata": {},
     "output_type": "execute_result"
    }
   ],
   "source": [
    "data['중상비율'] = data['중상자수']/data['사고건수']\n",
    "data"
   ],
   "metadata": {
    "collapsed": false,
    "ExecuteTime": {
     "end_time": "2023-10-21T12:36:56.198685200Z",
     "start_time": "2023-10-21T12:36:56.179973900Z"
    }
   },
   "id": "79df7366d068b675"
  },
  {
   "cell_type": "code",
   "execution_count": 89,
   "outputs": [],
   "source": [
    "save_data = data.loc[data['중상비율'] > 0.5]\n",
    "save_data.to_csv('save_data.csv')"
   ],
   "metadata": {
    "collapsed": false,
    "ExecuteTime": {
     "end_time": "2023-10-21T12:38:43.604274200Z",
     "start_time": "2023-10-21T12:38:43.588629400Z"
    }
   },
   "id": "3202d0a406504a7e"
  }
 ],
 "metadata": {
  "kernelspec": {
   "display_name": "Python 3",
   "language": "python",
   "name": "python3"
  },
  "language_info": {
   "codemirror_mode": {
    "name": "ipython",
    "version": 2
   },
   "file_extension": ".py",
   "mimetype": "text/x-python",
   "name": "python",
   "nbconvert_exporter": "python",
   "pygments_lexer": "ipython2",
   "version": "2.7.6"
  }
 },
 "nbformat": 4,
 "nbformat_minor": 5
}
