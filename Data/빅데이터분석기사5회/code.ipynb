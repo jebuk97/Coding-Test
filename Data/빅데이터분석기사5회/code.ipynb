{
 "cells": [
  {
   "cell_type": "markdown",
   "source": [
    "빅데이터 분석기사 5회 실기 기출 유형\n",
    "[가격 예측] 중고 자동차\n",
    "자동차 가격을 예측해주세요!\n",
    "예측할 값(y): price\n",
    "평가: RMSE (Root Mean Squared Error)\n",
    "data: train.csv, test.csv"
   ],
   "metadata": {
    "collapsed": false
   },
   "id": "508e17ea6a345944"
  },
  {
   "cell_type": "code",
   "execution_count": 1,
   "id": "initial_id",
   "metadata": {
    "collapsed": true,
    "ExecuteTime": {
     "end_time": "2023-10-22T04:32:34.080157400Z",
     "start_time": "2023-10-22T04:32:33.408943500Z"
    }
   },
   "outputs": [
    {
     "name": "stdout",
     "output_type": "stream",
     "text": [
      "<class 'pandas.core.frame.DataFrame'>\n",
      "RangeIndex: 3759 entries, 0 to 3758\n",
      "Data columns (total 9 columns):\n",
      " #   Column        Non-Null Count  Dtype  \n",
      "---  ------        --------------  -----  \n",
      " 0   model         3759 non-null   object \n",
      " 1   year          3759 non-null   int64  \n",
      " 2   price         3759 non-null   int64  \n",
      " 3   transmission  3759 non-null   object \n",
      " 4   mileage       3759 non-null   int64  \n",
      " 5   fuelType      3759 non-null   object \n",
      " 6   tax           3759 non-null   int64  \n",
      " 7   mpg           3759 non-null   float64\n",
      " 8   engineSize    3759 non-null   float64\n",
      "dtypes: float64(2), int64(4), object(3)\n",
      "memory usage: 264.4+ KB\n"
     ]
    }
   ],
   "source": [
    "import numpy as np\n",
    "import pandas as pd\n",
    "train = pd.read_csv('train.csv')\n",
    "train.info()"
   ]
  },
  {
   "cell_type": "code",
   "execution_count": 2,
   "outputs": [],
   "source": [
    "y = train['price']\n",
    "x = train.drop(columns=['price'])"
   ],
   "metadata": {
    "collapsed": false,
    "ExecuteTime": {
     "end_time": "2023-10-22T04:36:55.327090700Z",
     "start_time": "2023-10-22T04:36:55.316695200Z"
    }
   },
   "id": "561044a433ea63eb"
  },
  {
   "cell_type": "code",
   "execution_count": 3,
   "outputs": [],
   "source": [
    "x_cat = x.select_dtypes('object')\n",
    "x_con = x.select_dtypes(exclude='object')"
   ],
   "metadata": {
    "collapsed": false,
    "ExecuteTime": {
     "end_time": "2023-10-22T04:36:55.791679500Z",
     "start_time": "2023-10-22T04:36:55.785055300Z"
    }
   },
   "id": "8cbbbef9cfa6427f"
  },
  {
   "cell_type": "code",
   "execution_count": 4,
   "outputs": [
    {
     "name": "stderr",
     "output_type": "stream",
     "text": [
      "C:\\Users\\JYS\\anaconda3\\Lib\\site-packages\\sklearn\\preprocessing\\_encoders.py:972: FutureWarning: `sparse` was renamed to `sparse_output` in version 1.2 and will be removed in 1.4. `sparse_output` is ignored unless you leave `sparse` to its default value.\n",
      "  warnings.warn(\n"
     ]
    },
    {
     "data": {
      "text/plain": "array([[0., 0., 1., ..., 0., 0., 1.],\n       [0., 0., 0., ..., 1., 0., 0.],\n       [0., 0., 0., ..., 1., 0., 0.],\n       ...,\n       [0., 0., 0., ..., 0., 0., 1.],\n       [0., 0., 0., ..., 0., 0., 1.],\n       [0., 0., 0., ..., 0., 0., 1.]])"
     },
     "execution_count": 4,
     "metadata": {},
     "output_type": "execute_result"
    }
   ],
   "source": [
    "from sklearn.preprocessing import OneHotEncoder, StandardScaler\n",
    "enc = OneHotEncoder(sparse=False)\n",
    "sc = StandardScaler()\n",
    "enc.fit(x_cat)\n",
    "sc.fit(x_con)\n",
    "x_cat = enc.transform(x_cat)\n",
    "x_con = sc.transform(x_con)"
   ],
   "metadata": {
    "collapsed": false,
    "ExecuteTime": {
     "end_time": "2023-10-22T04:36:57.065909700Z",
     "start_time": "2023-10-22T04:36:56.137395400Z"
    }
   },
   "id": "2240f6ce22eebf70"
  },
  {
   "cell_type": "code",
   "execution_count": 5,
   "outputs": [
    {
     "data": {
      "text/plain": "array([[ 0.05217877,  0.09475271,  0.57622116, -0.44495321, -0.8072054 ],\n       [-0.41260798,  0.40467896, -1.85468155,  1.63469164,  0.33677179],\n       [ 0.05217877,  1.92543511,  0.57622116, -0.12805495,  1.48074898],\n       ...,\n       [ 0.05217877, -0.36339914,  0.49519107, -0.0092181 , -0.34961452],\n       [ 0.51696553, -0.71302217,  0.57622116,  0.78302756, -0.8072054 ],\n       [ 0.51696553, -0.78294678,  0.49519107, -0.0092181 , -0.34961452]])"
     },
     "execution_count": 5,
     "metadata": {},
     "output_type": "execute_result"
    }
   ],
   "source": [
    "x_con"
   ],
   "metadata": {
    "collapsed": false,
    "ExecuteTime": {
     "end_time": "2023-10-22T04:37:12.015814300Z",
     "start_time": "2023-10-22T04:37:12.011192900Z"
    }
   },
   "id": "9094820542ecff8f"
  },
  {
   "cell_type": "code",
   "execution_count": 7,
   "outputs": [
    {
     "data": {
      "text/plain": "array([[ 0.        ,  0.        ,  1.        , ...,  0.57622116,\n        -0.44495321, -0.8072054 ],\n       [ 0.        ,  0.        ,  0.        , ..., -1.85468155,\n         1.63469164,  0.33677179],\n       [ 0.        ,  0.        ,  0.        , ...,  0.57622116,\n        -0.12805495,  1.48074898],\n       ...,\n       [ 0.        ,  0.        ,  0.        , ...,  0.49519107,\n        -0.0092181 , -0.34961452],\n       [ 0.        ,  0.        ,  0.        , ...,  0.57622116,\n         0.78302756, -0.8072054 ],\n       [ 0.        ,  0.        ,  0.        , ...,  0.49519107,\n        -0.0092181 , -0.34961452]])"
     },
     "execution_count": 7,
     "metadata": {},
     "output_type": "execute_result"
    }
   ],
   "source": [
    "import numpy as np\n",
    "x = np.concatenate([x_cat, x_con], axis=1)\n",
    "x"
   ],
   "metadata": {
    "collapsed": false,
    "ExecuteTime": {
     "end_time": "2023-10-22T04:40:04.395483500Z",
     "start_time": "2023-10-22T04:40:04.379490100Z"
    }
   },
   "id": "307908bac16b4c63"
  },
  {
   "cell_type": "code",
   "execution_count": 9,
   "outputs": [],
   "source": [
    "from sklearn.model_selection import train_test_split\n",
    "x_train, x_val, y_train, y_val = train_test_split(x, y, random_state=43, test_size=.1)"
   ],
   "metadata": {
    "collapsed": false,
    "ExecuteTime": {
     "end_time": "2023-10-22T04:41:12.370794700Z",
     "start_time": "2023-10-22T04:41:12.294829900Z"
    }
   },
   "id": "d0e46217a2e63d22"
  },
  {
   "cell_type": "code",
   "execution_count": 12,
   "outputs": [
    {
     "name": "stdout",
     "output_type": "stream",
     "text": [
      "[LightGBM] [Info] Auto-choosing row-wise multi-threading, the overhead of testing was 0.000126 seconds.\n",
      "You can set `force_row_wise=true` to remove the overhead.\n",
      "And if memory is not enough, you can set `force_col_wise=true`.\n",
      "[LightGBM] [Info] Total Bins 400\n",
      "[LightGBM] [Info] Number of data points in the train set: 3383, number of used features: 23\n",
      "[LightGBM] [Info] Start training from score 12368.575820\n"
     ]
    },
    {
     "data": {
      "text/plain": "LGBMRegressor()",
      "text/html": "<style>#sk-container-id-1 {color: black;}#sk-container-id-1 pre{padding: 0;}#sk-container-id-1 div.sk-toggleable {background-color: white;}#sk-container-id-1 label.sk-toggleable__label {cursor: pointer;display: block;width: 100%;margin-bottom: 0;padding: 0.3em;box-sizing: border-box;text-align: center;}#sk-container-id-1 label.sk-toggleable__label-arrow:before {content: \"▸\";float: left;margin-right: 0.25em;color: #696969;}#sk-container-id-1 label.sk-toggleable__label-arrow:hover:before {color: black;}#sk-container-id-1 div.sk-estimator:hover label.sk-toggleable__label-arrow:before {color: black;}#sk-container-id-1 div.sk-toggleable__content {max-height: 0;max-width: 0;overflow: hidden;text-align: left;background-color: #f0f8ff;}#sk-container-id-1 div.sk-toggleable__content pre {margin: 0.2em;color: black;border-radius: 0.25em;background-color: #f0f8ff;}#sk-container-id-1 input.sk-toggleable__control:checked~div.sk-toggleable__content {max-height: 200px;max-width: 100%;overflow: auto;}#sk-container-id-1 input.sk-toggleable__control:checked~label.sk-toggleable__label-arrow:before {content: \"▾\";}#sk-container-id-1 div.sk-estimator input.sk-toggleable__control:checked~label.sk-toggleable__label {background-color: #d4ebff;}#sk-container-id-1 div.sk-label input.sk-toggleable__control:checked~label.sk-toggleable__label {background-color: #d4ebff;}#sk-container-id-1 input.sk-hidden--visually {border: 0;clip: rect(1px 1px 1px 1px);clip: rect(1px, 1px, 1px, 1px);height: 1px;margin: -1px;overflow: hidden;padding: 0;position: absolute;width: 1px;}#sk-container-id-1 div.sk-estimator {font-family: monospace;background-color: #f0f8ff;border: 1px dotted black;border-radius: 0.25em;box-sizing: border-box;margin-bottom: 0.5em;}#sk-container-id-1 div.sk-estimator:hover {background-color: #d4ebff;}#sk-container-id-1 div.sk-parallel-item::after {content: \"\";width: 100%;border-bottom: 1px solid gray;flex-grow: 1;}#sk-container-id-1 div.sk-label:hover label.sk-toggleable__label {background-color: #d4ebff;}#sk-container-id-1 div.sk-serial::before {content: \"\";position: absolute;border-left: 1px solid gray;box-sizing: border-box;top: 0;bottom: 0;left: 50%;z-index: 0;}#sk-container-id-1 div.sk-serial {display: flex;flex-direction: column;align-items: center;background-color: white;padding-right: 0.2em;padding-left: 0.2em;position: relative;}#sk-container-id-1 div.sk-item {position: relative;z-index: 1;}#sk-container-id-1 div.sk-parallel {display: flex;align-items: stretch;justify-content: center;background-color: white;position: relative;}#sk-container-id-1 div.sk-item::before, #sk-container-id-1 div.sk-parallel-item::before {content: \"\";position: absolute;border-left: 1px solid gray;box-sizing: border-box;top: 0;bottom: 0;left: 50%;z-index: -1;}#sk-container-id-1 div.sk-parallel-item {display: flex;flex-direction: column;z-index: 1;position: relative;background-color: white;}#sk-container-id-1 div.sk-parallel-item:first-child::after {align-self: flex-end;width: 50%;}#sk-container-id-1 div.sk-parallel-item:last-child::after {align-self: flex-start;width: 50%;}#sk-container-id-1 div.sk-parallel-item:only-child::after {width: 0;}#sk-container-id-1 div.sk-dashed-wrapped {border: 1px dashed gray;margin: 0 0.4em 0.5em 0.4em;box-sizing: border-box;padding-bottom: 0.4em;background-color: white;}#sk-container-id-1 div.sk-label label {font-family: monospace;font-weight: bold;display: inline-block;line-height: 1.2em;}#sk-container-id-1 div.sk-label-container {text-align: center;}#sk-container-id-1 div.sk-container {/* jupyter's `normalize.less` sets `[hidden] { display: none; }` but bootstrap.min.css set `[hidden] { display: none !important; }` so we also need the `!important` here to be able to override the default hidden behavior on the sphinx rendered scikit-learn.org. See: https://github.com/scikit-learn/scikit-learn/issues/21755 */display: inline-block !important;position: relative;}#sk-container-id-1 div.sk-text-repr-fallback {display: none;}</style><div id=\"sk-container-id-1\" class=\"sk-top-container\"><div class=\"sk-text-repr-fallback\"><pre>LGBMRegressor()</pre><b>In a Jupyter environment, please rerun this cell to show the HTML representation or trust the notebook. <br />On GitHub, the HTML representation is unable to render, please try loading this page with nbviewer.org.</b></div><div class=\"sk-container\" hidden><div class=\"sk-item\"><div class=\"sk-estimator sk-toggleable\"><input class=\"sk-toggleable__control sk-hidden--visually\" id=\"sk-estimator-id-1\" type=\"checkbox\" checked><label for=\"sk-estimator-id-1\" class=\"sk-toggleable__label sk-toggleable__label-arrow\">LGBMRegressor</label><div class=\"sk-toggleable__content\"><pre>LGBMRegressor()</pre></div></div></div></div></div>"
     },
     "execution_count": 12,
     "metadata": {},
     "output_type": "execute_result"
    }
   ],
   "source": [
    "from lightgbm import LGBMRegressor\n",
    "lgbm = LGBMRegressor()\n",
    "lgbm.fit(x_train, y_train)"
   ],
   "metadata": {
    "collapsed": false,
    "ExecuteTime": {
     "end_time": "2023-10-22T04:44:20.327069800Z",
     "start_time": "2023-10-22T04:44:19.133211600Z"
    }
   },
   "id": "b5cf26506bf68d35"
  },
  {
   "cell_type": "code",
   "execution_count": 16,
   "outputs": [
    {
     "name": "stdout",
     "output_type": "stream",
     "text": [
      "1126.7225727851044\n"
     ]
    }
   ],
   "source": [
    "import sklearn.metrics as skm\n",
    "y_pred = lgbm.predict(x_val)\n",
    "MSE = skm.mean_squared_error\n",
    "print(MSE(y_val, y_pred)**0.5)"
   ],
   "metadata": {
    "collapsed": false,
    "ExecuteTime": {
     "end_time": "2023-10-22T04:45:03.717380100Z",
     "start_time": "2023-10-22T04:45:03.710250Z"
    }
   },
   "id": "d066cc6b07daa948"
  },
  {
   "cell_type": "code",
   "execution_count": 24,
   "outputs": [],
   "source": [
    "x_test = pd.read_csv('test.csv')\n",
    "x_test_cat = x_test.select_dtypes('object')\n",
    "x_test_con = x_test.select_dtypes(exclude='object')"
   ],
   "metadata": {
    "collapsed": false,
    "ExecuteTime": {
     "end_time": "2023-10-22T04:50:34.572334900Z",
     "start_time": "2023-10-22T04:50:34.560088800Z"
    }
   },
   "id": "480958572d1ae489"
  },
  {
   "cell_type": "code",
   "execution_count": 25,
   "outputs": [
    {
     "data": {
      "text/plain": "             model transmission fuelType\n0            S-MAX       Manual   Diesel\n1           Fiesta       Manual   Petrol\n2             Kuga       Manual   Petrol\n3             Kuga    Semi-Auto   Diesel\n4           Fiesta       Manual   Petrol\n...            ...          ...      ...\n1612        Fiesta       Manual   Petrol\n1613         Focus       Manual   Diesel\n1614   Grand C-MAX       Manual   Diesel\n1615          Kuga       Manual   Diesel\n1616         S-MAX    Automatic   Diesel\n\n[1617 rows x 3 columns]",
      "text/html": "<div>\n<style scoped>\n    .dataframe tbody tr th:only-of-type {\n        vertical-align: middle;\n    }\n\n    .dataframe tbody tr th {\n        vertical-align: top;\n    }\n\n    .dataframe thead th {\n        text-align: right;\n    }\n</style>\n<table border=\"1\" class=\"dataframe\">\n  <thead>\n    <tr style=\"text-align: right;\">\n      <th></th>\n      <th>model</th>\n      <th>transmission</th>\n      <th>fuelType</th>\n    </tr>\n  </thead>\n  <tbody>\n    <tr>\n      <th>0</th>\n      <td>S-MAX</td>\n      <td>Manual</td>\n      <td>Diesel</td>\n    </tr>\n    <tr>\n      <th>1</th>\n      <td>Fiesta</td>\n      <td>Manual</td>\n      <td>Petrol</td>\n    </tr>\n    <tr>\n      <th>2</th>\n      <td>Kuga</td>\n      <td>Manual</td>\n      <td>Petrol</td>\n    </tr>\n    <tr>\n      <th>3</th>\n      <td>Kuga</td>\n      <td>Semi-Auto</td>\n      <td>Diesel</td>\n    </tr>\n    <tr>\n      <th>4</th>\n      <td>Fiesta</td>\n      <td>Manual</td>\n      <td>Petrol</td>\n    </tr>\n    <tr>\n      <th>...</th>\n      <td>...</td>\n      <td>...</td>\n      <td>...</td>\n    </tr>\n    <tr>\n      <th>1612</th>\n      <td>Fiesta</td>\n      <td>Manual</td>\n      <td>Petrol</td>\n    </tr>\n    <tr>\n      <th>1613</th>\n      <td>Focus</td>\n      <td>Manual</td>\n      <td>Diesel</td>\n    </tr>\n    <tr>\n      <th>1614</th>\n      <td>Grand C-MAX</td>\n      <td>Manual</td>\n      <td>Diesel</td>\n    </tr>\n    <tr>\n      <th>1615</th>\n      <td>Kuga</td>\n      <td>Manual</td>\n      <td>Diesel</td>\n    </tr>\n    <tr>\n      <th>1616</th>\n      <td>S-MAX</td>\n      <td>Automatic</td>\n      <td>Diesel</td>\n    </tr>\n  </tbody>\n</table>\n<p>1617 rows × 3 columns</p>\n</div>"
     },
     "execution_count": 25,
     "metadata": {},
     "output_type": "execute_result"
    }
   ],
   "source": [
    "x_test_cat"
   ],
   "metadata": {
    "collapsed": false,
    "ExecuteTime": {
     "end_time": "2023-10-22T04:50:36.793382200Z",
     "start_time": "2023-10-22T04:50:36.761699Z"
    }
   },
   "id": "5dc81a89c9c479e2"
  },
  {
   "cell_type": "code",
   "execution_count": 26,
   "outputs": [
    {
     "data": {
      "text/plain": "array([[ 0.        ,  0.        ,  0.        , ...,  0.17107071,\n        -0.12805495,  1.48074898],\n       [ 0.        ,  0.        ,  0.        , ...,  0.49519107,\n        -1.73235241,  0.33677179],\n       [ 0.        ,  0.        ,  0.        , ...,  0.81931143,\n        -1.20748966,  0.33677179],\n       ...,\n       [ 0.        ,  0.        ,  0.        , ..., -1.36850101,\n         0.63448149,  0.33677179],\n       [ 0.        ,  0.        ,  0.        , ...,  0.17107071,\n         0.2284556 ,  1.48074898],\n       [ 0.        ,  0.        ,  0.        , ...,  1.46755216,\n        -1.0589436 ,  1.48074898]])"
     },
     "execution_count": 26,
     "metadata": {},
     "output_type": "execute_result"
    }
   ],
   "source": [
    "x_test_cat = enc.transform(x_test_cat)\n",
    "x_test_con = sc.transform(x_test_con)\n",
    "x_test = np.concatenate([x_test_cat, x_test_con], axis=1)\n",
    "x_test"
   ],
   "metadata": {
    "collapsed": false,
    "ExecuteTime": {
     "end_time": "2023-10-22T04:50:48.045867300Z",
     "start_time": "2023-10-22T04:50:48.039619300Z"
    }
   },
   "id": "b19d250b9f8bc7a9"
  },
  {
   "cell_type": "code",
   "execution_count": 28,
   "outputs": [
    {
     "data": {
      "text/plain": "array([15409.03799624, 15519.5625169 , 14448.93577547, ...,\n        9575.57890802, 13939.91921542,  5870.67549049])"
     },
     "execution_count": 28,
     "metadata": {},
     "output_type": "execute_result"
    }
   ],
   "source": [
    "pred = lgbm.predict(x_test)\n",
    "pred"
   ],
   "metadata": {
    "collapsed": false,
    "ExecuteTime": {
     "end_time": "2023-10-22T04:51:19.660362100Z",
     "start_time": "2023-10-22T04:51:19.628896200Z"
    }
   },
   "id": "6197a1ddf1072a7f"
  },
  {
   "cell_type": "code",
   "execution_count": 33,
   "outputs": [],
   "source": [
    "res = pd.read_csv('sample_submission.csv')\n",
    "res['price'] = pred\n",
    "res.to_csv('submission.csv', index=False)"
   ],
   "metadata": {
    "collapsed": false,
    "ExecuteTime": {
     "end_time": "2023-10-22T04:57:21.341387200Z",
     "start_time": "2023-10-22T04:57:21.325896800Z"
    }
   },
   "id": "44dd080bedf4d658"
  }
 ],
 "metadata": {
  "kernelspec": {
   "display_name": "Python 3",
   "language": "python",
   "name": "python3"
  },
  "language_info": {
   "codemirror_mode": {
    "name": "ipython",
    "version": 2
   },
   "file_extension": ".py",
   "mimetype": "text/x-python",
   "name": "python",
   "nbconvert_exporter": "python",
   "pygments_lexer": "ipython2",
   "version": "2.7.6"
  }
 },
 "nbformat": 4,
 "nbformat_minor": 5
}
